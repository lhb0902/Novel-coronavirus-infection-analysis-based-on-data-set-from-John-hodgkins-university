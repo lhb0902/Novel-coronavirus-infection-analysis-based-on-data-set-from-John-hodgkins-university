{
 "cells": [
  {
   "cell_type": "code",
   "execution_count": null,
   "metadata": {},
   "outputs": [],
   "source": [
    "#世界受感染地区折线图\n",
    "#数据包含了一月二十二日到三月十八日的部分\n",
    "#数据集来源https://github.com/CSSEGISandData/COVID-19\n",
    "#本次分析是在本地完成的，若要更新数据请注意下方文件路径的替换\n",
    "#数据集中香港和台湾被单独列出，分析过程中行政区划问题仅是尊重原数据，不代表个人的任何立场"
   ]
  },
  {
   "cell_type": "code",
   "execution_count": 2,
   "metadata": {},
   "outputs": [],
   "source": [
    "#引入所需要的的库\n",
    "import pandas as pd\n",
    "import numpy as np\n",
    "import matplotlib.pyplot as plt\n",
    "import os\n",
    "from datetime import datetime"
   ]
  },
  {
   "cell_type": "code",
   "execution_count": 3,
   "metadata": {},
   "outputs": [
    {
     "name": "stdout",
     "output_type": "stream",
     "text": [
      "['01-22-2020', '01-23-2020', '01-24-2020', '01-25-2020', '01-26-2020', '01-27-2020', '01-28-2020', '01-29-2020', '01-30-2020', '01-31-2020', '02-01-2020', '02-02-2020', '02-03-2020', '02-04-2020', '02-05-2020', '02-06-2020', '02-07-2020', '02-08-2020', '02-09-2020', '02-10-2020', '02-11-2020', '02-12-2020', '02-13-2020', '02-14-2020', '02-15-2020', '02-16-2020', '02-17-2020', '02-18-2020', '02-19-2020', '02-20-2020', '02-21-2020', '02-22-2020', '02-23-2020', '02-24-2020', '02-25-2020', '02-26-2020', '02-27-2020', '02-28-2020', '02-29-2020', '03-01-2020', '03-02-2020', '03-03-2020', '03-04-2020', '03-05-2020', '03-06-2020', '03-07-2020', '03-08-2020', '03-09-2020', '03-10-2020', '03-11-2020', '03-12-2020', '03-13-2020', '03-14-2020', '03-15-2020', '03-16-2020', '03-17-2020', '03-18-2020']\n"
     ]
    }
   ],
   "source": [
    "#引入文件并打印引入的文件名\n",
    "root='C:\\\\Users\\\\thinkpad\\\\Desktop\\\\CSSE COVID-19'\n",
    "file_names=os.listdir(root)\n",
    "file_ob_list=[]\n",
    "Datelist=[]\n",
    "for file_name in file_names:\n",
    "    fileob=root+'\\\\'+file_name\n",
    "    file_ob_list.append(fileob)\n",
    "    Datelist.append(file_name[0:10])\n",
    "print(Datelist)"
   ]
  },
  {
   "cell_type": "code",
   "execution_count": 15,
   "metadata": {},
   "outputs": [
    {
     "name": "stdout",
     "output_type": "stream",
     "text": [
      "[38, 46, 41, 44, 47, 51, 52, 54, 58, 62, 67, 67, 68, 70, 71, 71, 72, 72, 72, 72, 73, 73, 74, 75, 75, 75, 75, 75, 76, 76, 84, 84, 85, 90, 94, 101, 105, 114, 119, 125, 141, 151, 160, 173, 199, 225, 255, 266, 206, 216, 218, 230, 249, 258, 272, 276, 284]\n"
     ]
    }
   ],
   "source": [
    "#统计受感染地区\n",
    "Affected_area=[]\n",
    "for file_ob in file_ob_list: \n",
    "    with open(str(file_ob), 'r') as f:\n",
    "        Affected_area.append(len(f.readlines())-1)\n",
    "print(Affected_area)"
   ]
  },
  {
   "cell_type": "code",
   "execution_count": 16,
   "metadata": {},
   "outputs": [
    {
     "data": {
      "text/plain": [
       "(array([737446., 737456., 737463., 737470., 737477., 737485., 737492.,\n",
       "        737499.]), <a list of 8 Text xticklabel objects>)"
      ]
     },
     "execution_count": 16,
     "metadata": {},
     "output_type": "execute_result"
    },
    {
     "data": {
      "image/png": "[encoded data removed]",
      "text/plain": [
       "<Figure size 432x288 with 1 Axes>"
      ]
     },
     "metadata": {
      "needs_background": "light"
     },
     "output_type": "display_data"
    }
   ],
   "source": [
    "#输出感染地区折线图\n",
    "xs = [datetime.strptime(d, '%m-%d-%Y').date() for d in Datelist]\n",
    "plt.plot(xs,Affected_area)\n",
    "plt.xticks(size='small',rotation=90,fontsize=10)"
   ]
  }
 ],
 "metadata": {
  "kernelspec": {
   "display_name": "Python 3",
   "language": "python",
   "name": "python3"
  },
  "language_info": {
   "codemirror_mode": {
    "name": "ipython",
    "version": 3
   },
   "file_extension": ".py",
   "mimetype": "text/x-python",
   "name": "python",
   "nbconvert_exporter": "python",
   "pygments_lexer": "ipython3",
   "version": "3.7.4"
  }
 },
 "nbformat": 4,
 "nbformat_minor": 2
}
